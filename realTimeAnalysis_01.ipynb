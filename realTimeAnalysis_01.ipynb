{
 "cells": [
  {
   "cell_type": "code",
   "execution_count": 1,
   "metadata": {
    "collapsed": true
   },
   "outputs": [],
   "source": [
    "import numpy as np\n",
    "import pandas as pd\n",
    "import matplotlib.pyplot as plt\n",
    "%matplotlib inline"
   ]
  },
  {
   "cell_type": "code",
   "execution_count": 2,
   "metadata": {
    "collapsed": false
   },
   "outputs": [],
   "source": [
    "import paramiko\n",
    "\n",
    "IP = \"webwork.cse.ucsd.edu\"\n",
    "USERNAME = \"user\"\n",
    "PASSWORD = \"pw\"\n",
    "\n",
    "ssh = paramiko.SSHClient()\n",
    "ssh.set_missing_host_key_policy(paramiko.AutoAddPolicy())\n",
    "ssh.connect(IP, username=USERNAME, password=PASSWORD)"
   ]
  },
  {
   "cell_type": "code",
   "execution_count": 3,
   "metadata": {
    "collapsed": false
   },
   "outputs": [],
   "source": [
    "command = 'mysql -u user -ppw -e \"use webwork; select * from CSE103_Fall14_answers_by_part;\"'\n",
    "\n",
    "ssh_stdin, ssh_stdout, ssh_stderr = ssh.exec_command(command)\n",
    "#ssh_stderr.read()\n",
    "data = ssh_stdout.readlines()"
   ]
  },
  {
   "cell_type": "code",
   "execution_count": 4,
   "metadata": {
    "collapsed": false
   },
   "outputs": [],
   "source": [
    "table = []\n",
    "for line in data:\n",
    "    line = line.strip()\n",
    "    entries = line.split('\\t')\n",
    "    table.append(entries)  \n",
    "    \n",
    "df = pd.DataFrame(table[1:],columns=table[0])"
   ]
  },
  {
   "cell_type": "code",
   "execution_count": 5,
   "metadata": {
    "collapsed": false
   },
   "outputs": [
    {
     "data": {
      "text/html": [
       "<div>\n",
       "<table border=\"1\" class=\"dataframe\">\n",
       "  <thead>\n",
       "    <tr style=\"text-align: right;\">\n",
       "      <th></th>\n",
       "      <th>id</th>\n",
       "      <th>user_id</th>\n",
       "      <th>answer_id</th>\n",
       "      <th>answer_string</th>\n",
       "      <th>score</th>\n",
       "      <th>problem_id</th>\n",
       "      <th>set_id</th>\n",
       "      <th>part_id</th>\n",
       "      <th>timestamp</th>\n",
       "    </tr>\n",
       "  </thead>\n",
       "  <tbody>\n",
       "    <tr>\n",
       "      <th>0</th>\n",
       "      <td>451632</td>\n",
       "      <td>m1arteag</td>\n",
       "      <td>325717</td>\n",
       "      <td>Q((.09/(.88*(1-.88))/n)^.5)</td>\n",
       "      <td>0</td>\n",
       "      <td>11</td>\n",
       "      <td>Week10</td>\n",
       "      <td>6</td>\n",
       "      <td>2014-12-10 20:00:08</td>\n",
       "    </tr>\n",
       "    <tr>\n",
       "      <th>1</th>\n",
       "      <td>451631</td>\n",
       "      <td>jjprasad</td>\n",
       "      <td>325716</td>\n",
       "      <td>Qinv(0.01)*0.5*(1-0.5)^2/0.01</td>\n",
       "      <td>0</td>\n",
       "      <td>11</td>\n",
       "      <td>Week10</td>\n",
       "      <td>8</td>\n",
       "      <td>2014-12-10 20:00:04</td>\n",
       "    </tr>\n",
       "    <tr>\n",
       "      <th>2</th>\n",
       "      <td>451630</td>\n",
       "      <td>dgk001</td>\n",
       "      <td>325715</td>\n",
       "      <td>Q(2*(.93-.8)*sqrt(n))</td>\n",
       "      <td>0</td>\n",
       "      <td>11</td>\n",
       "      <td>Week10</td>\n",
       "      <td>6</td>\n",
       "      <td>2014-12-10 20:00:02</td>\n",
       "    </tr>\n",
       "    <tr>\n",
       "      <th>3</th>\n",
       "      <td>451629</td>\n",
       "      <td>rholeman</td>\n",
       "      <td>325714</td>\n",
       "      <td>Q(2*(-.8)*(sqrt(n)))</td>\n",
       "      <td>0</td>\n",
       "      <td>11</td>\n",
       "      <td>Week10</td>\n",
       "      <td>6</td>\n",
       "      <td>2014-12-10 20:00:00</td>\n",
       "    </tr>\n",
       "    <tr>\n",
       "      <th>4</th>\n",
       "      <td>451628</td>\n",
       "      <td>s1tsao</td>\n",
       "      <td>325711</td>\n",
       "      <td>(Qinv(.04)*(.5*.5)^.5/.1)^2</td>\n",
       "      <td>1</td>\n",
       "      <td>11</td>\n",
       "      <td>Week10</td>\n",
       "      <td>8</td>\n",
       "      <td>2014-12-10 19:59:49</td>\n",
       "    </tr>\n",
       "  </tbody>\n",
       "</table>\n",
       "</div>"
      ],
      "text/plain": [
       "       id   user_id answer_id                  answer_string score problem_id  \\\n",
       "0  451632  m1arteag    325717    Q((.09/(.88*(1-.88))/n)^.5)     0         11   \n",
       "1  451631  jjprasad    325716  Qinv(0.01)*0.5*(1-0.5)^2/0.01     0         11   \n",
       "2  451630    dgk001    325715          Q(2*(.93-.8)*sqrt(n))     0         11   \n",
       "3  451629  rholeman    325714           Q(2*(-.8)*(sqrt(n)))     0         11   \n",
       "4  451628    s1tsao    325711    (Qinv(.04)*(.5*.5)^.5/.1)^2     1         11   \n",
       "\n",
       "   set_id part_id            timestamp  \n",
       "0  Week10       6  2014-12-10 20:00:08  \n",
       "1  Week10       8  2014-12-10 20:00:04  \n",
       "2  Week10       6  2014-12-10 20:00:02  \n",
       "3  Week10       6  2014-12-10 20:00:00  \n",
       "4  Week10       8  2014-12-10 19:59:49  "
      ]
     },
     "execution_count": 5,
     "metadata": {},
     "output_type": "execute_result"
    }
   ],
   "source": [
    "df.head()"
   ]
  },
  {
   "cell_type": "code",
   "execution_count": 52,
   "metadata": {
    "collapsed": false
   },
   "outputs": [],
   "source": [
    "def generate_set_attempt_stats(df,set_id):\n",
    "    dfSet = df.ix[df['set_id']==set_id,'problem_id']\n",
    "    dfSet = dfSet.astype(int)\n",
    "    totalAttempts = len(dfSet)\n",
    "    problems = dfSet.values\n",
    "    totalProblems = len(np.unique(problems))\n",
    "    dfSet.hist()\n",
    "    plt.title('Total attempts: '+str(totalAttempts))\n",
    "    plt.xlabel('Problem ID')\n",
    "    plt.ylabel('No. of attempts')\n",
    "    plt.xlim([1,totalProblems])"
   ]
  },
  {
   "cell_type": "code",
   "execution_count": 53,
   "metadata": {
    "collapsed": false,
    "scrolled": true
   },
   "outputs": [
    {
     "data": {
      "image/png": "[encoded data removed]",
      "text/plain": [
       "<matplotlib.figure.Figure at 0x15615cec>"
      ]
     },
     "metadata": {},
     "output_type": "display_data"
    }
   ],
   "source": [
    "set_id = \"Week5\"\n",
    "generate_set_attempt_stats(df,set_id)"
   ]
  },
  {
   "cell_type": "code",
   "execution_count": 54,
   "metadata": {
    "collapsed": false
   },
   "outputs": [],
   "source": [
    "def generate_set_user_stats(df,set_id):\n",
    "    dfSelection = df.ix[df['set_id']==set_id,:]\n",
    "    dfUnique = dfSelection.drop_duplicates(subset=['user_id','problem_id'])\n",
    "    users = dfUnique['user_id'].values\n",
    "    problems = dfUnique['problem_id'].values\n",
    "    totalUsers = len(np.unique(users))\n",
    "    totalProblems = len(np.unique(problems))\n",
    "    dfUnique = dfUnique['problem_id'].astype(int)\n",
    "\n",
    "    dfUnique.hist(bins=totalProblems)\n",
    "    plt.title('Total users: '+str(totalUsers))\n",
    "    plt.xlabel('Problem ID')\n",
    "    plt.ylabel('No. of users')\n",
    "    plt.xlim([1,totalProblems])"
   ]
  },
  {
   "cell_type": "code",
   "execution_count": 55,
   "metadata": {
    "collapsed": false
   },
   "outputs": [
    {
     "data": {
      "image/png": "[encoded data removed]",
      "text/plain": [
       "<matplotlib.figure.Figure at 0x15eb72cc>"
      ]
     },
     "metadata": {},
     "output_type": "display_data"
    }
   ],
   "source": [
    "set_id = \"Week5\"\n",
    "generate_set_user_stats(df,set_id)"
   ]
  },
  {
   "cell_type": "code",
   "execution_count": null,
   "metadata": {
    "collapsed": true
   },
   "outputs": [],
   "source": [
    "ssh.close()"
   ]
  }
 ],
 "metadata": {
  "kernelspec": {
   "display_name": "Python 2",
   "language": "python",
   "name": "python2"
  },
  "language_info": {
   "codemirror_mode": {
    "name": "ipython",
    "version": 2
   },
   "file_extension": ".py",
   "mimetype": "text/x-python",
   "name": "python",
   "nbconvert_exporter": "python",
   "pygments_lexer": "ipython2",
   "version": "2.7.3"
  }
 },
 "nbformat": 4,
 "nbformat_minor": 0
}
